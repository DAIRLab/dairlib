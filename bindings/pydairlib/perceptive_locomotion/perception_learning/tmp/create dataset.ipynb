{
 "cells": [
  {
   "cell_type": "code",
   "execution_count": 1,
   "id": "a482782f",
   "metadata": {},
   "outputs": [],
   "source": [
    "import numpy as np\n",
    "alip = np.load('ALIP.npy')\n",
    "footstep = np.load('FOOTSTEP.npy')\n",
    "hmap = np.load('HMAP.npy')\n",
    "alip1 = np.load('ALIP1.npy')\n",
    "footstep1 = np.load('FOOTSTEP1.npy')\n",
    "hmap1 = np.load('HMAP1.npy')\n",
    "alip2 = np.load('ALIP2.npy')\n",
    "footstep2 = np.load('FOOTSTEP2.npy')\n",
    "hmap2 = np.load('HMAP2.npy')"
   ]
  },
  {
   "cell_type": "code",
   "execution_count": 2,
   "id": "a186d5dc",
   "metadata": {},
   "outputs": [],
   "source": [
    "ALIP = np.concatenate((alip, alip1, alip2), axis=0)\n",
    "HMAP = np.concatenate((hmap, hmap1, hmap2), axis=0)\n",
    "FOOT = np.concatenate((footstep, footstep1, footstep2), axis=0)"
   ]
  },
  {
   "cell_type": "code",
   "execution_count": 3,
   "id": "41fa3e2a",
   "metadata": {},
   "outputs": [
    {
     "data": {
      "text/plain": [
       "(78282, 12292)"
      ]
     },
     "execution_count": 3,
     "metadata": {},
     "output_type": "execute_result"
    }
   ],
   "source": [
    "HMAP_flat = HMAP.reshape((HMAP.shape[0], -1))\n",
    "flattened_data = np.concatenate((HMAP_flat, ALIP), axis=1)\n",
    "flattened_data[np.isneginf(flattened_data)] = -1\n",
    "flattened_data.shape"
   ]
  },
  {
   "cell_type": "code",
   "execution_count": null,
   "id": "8ab52968",
   "metadata": {},
   "outputs": [],
   "source": [
    "np.save('observationsNN', flattened_data)\n",
    "np.save('actionsNN', FOOT)"
   ]
  },
  {
   "cell_type": "code",
   "execution_count": null,
   "id": "8336d738",
   "metadata": {},
   "outputs": [],
   "source": []
  },
  {
   "cell_type": "code",
   "execution_count": null,
   "id": "b5e20c6e",
   "metadata": {},
   "outputs": [],
   "source": []
  },
  {
   "cell_type": "code",
   "execution_count": 2,
   "id": "3cf7560b",
   "metadata": {},
   "outputs": [],
   "source": [
    "import numpy as np\n",
    "\n",
    "# Load data from the first .npz file\n",
    "data_0 = np.load('data-0.npz', allow_pickle=True)['arr_0']\n",
    "\n",
    "# Load data from the second .npz file\n",
    "data_01 = np.load('data-01.npz', allow_pickle=True)['arr_0']\n",
    "\n",
    "# Concatenate the two arrays along the first axis\n",
    "concatenated_data = np.concatenate((data_0, data_01), axis=0)\n",
    "\n",
    "# Save the concatenated data to a new .npz file\n",
    "np.savez('data.npz', arr_0=concatenated_data)\n"
   ]
  },
  {
   "cell_type": "code",
   "execution_count": null,
   "id": "3c43df0a",
   "metadata": {},
   "outputs": [],
   "source": []
  }
 ],
 "metadata": {
  "kernelspec": {
   "display_name": "Python 3 (ipykernel)",
   "language": "python",
   "name": "python3"
  },
  "language_info": {
   "codemirror_mode": {
    "name": "ipython",
    "version": 3
   },
   "file_extension": ".py",
   "mimetype": "text/x-python",
   "name": "python",
   "nbconvert_exporter": "python",
   "pygments_lexer": "ipython3",
   "version": "3.10.12"
  }
 },
 "nbformat": 4,
 "nbformat_minor": 5
}
