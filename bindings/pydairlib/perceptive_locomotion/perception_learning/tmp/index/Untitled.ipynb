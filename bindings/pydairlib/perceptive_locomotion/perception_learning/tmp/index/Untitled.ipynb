{
 "cells": [
  {
   "cell_type": "code",
   "execution_count": 1,
   "id": "7c1471c2",
   "metadata": {},
   "outputs": [],
   "source": [
    "import numpy as np\n",
    "\n",
    "# Step 1: Load initial_conditions_2.npz file and extract arr_0.npy\n",
    "initial_data = np.load('initial_conditions_2.npz', allow_pickle=True)\n",
    "arr_0 = initial_data['arr_0']\n",
    "\n",
    "# Step 2: Concatenate all index*.npy files\n",
    "#concatenated_indices = np.concatenate([np.load(f'index{i}.npy', allow_pickle=True) for i in range(1, 13)])"
   ]
  },
  {
   "cell_type": "code",
   "execution_count": 2,
   "id": "8adc8e8c",
   "metadata": {},
   "outputs": [],
   "source": [
    "concatenated_indices = np.concatenate([np.load(f'index{i}.npy', allow_pickle=True) for i in range(1, 21)])"
   ]
  },
  {
   "cell_type": "code",
   "execution_count": 3,
   "id": "0840aae7",
   "metadata": {},
   "outputs": [
    {
     "data": {
      "text/plain": [
       "1023"
      ]
     },
     "execution_count": 3,
     "metadata": {},
     "output_type": "execute_result"
    }
   ],
   "source": [
    "len(concatenated_indices)"
   ]
  },
  {
   "cell_type": "code",
   "execution_count": 4,
   "id": "75c585e4",
   "metadata": {},
   "outputs": [
    {
     "data": {
      "text/plain": [
       "1013"
      ]
     },
     "execution_count": 4,
     "metadata": {},
     "output_type": "execute_result"
    }
   ],
   "source": [
    "len(np.unique(concatenated_indices))"
   ]
  },
  {
   "cell_type": "code",
   "execution_count": 6,
   "id": "358d71e8",
   "metadata": {},
   "outputs": [],
   "source": [
    "indices_to_remove = [6, 9, 51, 98, 115, 123, 124, 145, 152, 153, 160, 170, 178, 184, 190, 201, 207, 219, 227, 235, 248, 266, 272, 273, 277, 278, 303, 304, 324, 325, 331, 344, 345, 396, 411, 412, 416, 417, 466, 467, 469, 524, 559, 560, 575, 578, 585, 593, 603, 611, 612, 622, 631, 632, 633, 648, 656, 668, 669, 678, 679, 693, 696, 718, 744, 745, 750, 761, 767, 810, 825, 830, 832, 882, 892, 906, 925, 932, 941, 942, 951, 1000, 1007, 1011]"
   ]
  },
  {
   "cell_type": "code",
   "execution_count": 5,
   "id": "23639bc3",
   "metadata": {},
   "outputs": [],
   "source": [
    "initial_cond = np.unique(concatenated_indices)"
   ]
  },
  {
   "cell_type": "code",
   "execution_count": 7,
   "id": "027b7019",
   "metadata": {},
   "outputs": [],
   "source": [
    "arr = np.delete(initial_cond, indices_to_remove)"
   ]
  },
  {
   "cell_type": "code",
   "execution_count": 10,
   "id": "c2a808ee",
   "metadata": {},
   "outputs": [
    {
     "data": {
      "text/plain": [
       "929"
      ]
     },
     "execution_count": 10,
     "metadata": {},
     "output_type": "execute_result"
    }
   ],
   "source": [
    "len(arr)"
   ]
  },
  {
   "cell_type": "code",
   "execution_count": 11,
   "id": "5a124876",
   "metadata": {},
   "outputs": [],
   "source": [
    "# Step 4: Use concatenated indices to extract values from arr_0.npy\n",
    "extracted_values = arr_0[arr]\n",
    "\n",
    "# Step 5: Save extracted values into a new .npz file\n",
    "np.savez('initial_conditions.npz', arr_0=extracted_values)"
   ]
  },
  {
   "cell_type": "code",
   "execution_count": null,
   "id": "a0fbdfaf",
   "metadata": {},
   "outputs": [],
   "source": [
    "# Step 3: Check if indices are unique\n",
    "if len(concatenated_indices) != len(np.unique(concatenated_indices)):\n",
    "    print(\"Error: Indices are not unique.\")\n",
    "else:\n",
    "    # Step 4: Use concatenated indices to extract values from arr_0.npy\n",
    "    extracted_values = arr_0[concatenated_indices]\n",
    "\n",
    "    # Step 5: Save extracted values into a new .npz file\n",
    "    np.savez('initial_conditions.npz', arr_0=extracted_values)\n"
   ]
  }
 ],
 "metadata": {
  "kernelspec": {
   "display_name": "Python 3 (ipykernel)",
   "language": "python",
   "name": "python3"
  },
  "language_info": {
   "codemirror_mode": {
    "name": "ipython",
    "version": 3
   },
   "file_extension": ".py",
   "mimetype": "text/x-python",
   "name": "python",
   "nbconvert_exporter": "python",
   "pygments_lexer": "ipython3",
   "version": "3.10.12"
  }
 },
 "nbformat": 4,
 "nbformat_minor": 5
}
